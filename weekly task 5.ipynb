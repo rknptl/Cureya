{
 "cells": [
  {
   "cell_type": "code",
   "execution_count": 1,
   "id": "5a4a9da8",
   "metadata": {
    "execution": {
     "iopub.execute_input": "2022-02-16T18:55:23.539506Z",
     "iopub.status.busy": "2022-02-16T18:55:23.538925Z",
     "iopub.status.idle": "2022-02-16T18:55:24.539148Z",
     "shell.execute_reply": "2022-02-16T18:55:24.539632Z",
     "shell.execute_reply.started": "2022-02-16T18:35:35.977205Z"
    },
    "papermill": {
     "duration": 1.027844,
     "end_time": "2022-02-16T18:55:24.539939",
     "exception": false,
     "start_time": "2022-02-16T18:55:23.512095",
     "status": "completed"
    },
    "tags": []
   },
   "outputs": [],
   "source": [
    "import pandas as pd\n",
    "import seaborn as sns\n",
    "from matplotlib import pyplot as plt\n",
    "import numpy as np"
   ]
  },
  {
   "cell_type": "code",
   "execution_count": 2,
   "id": "3c78ecc2",
   "metadata": {
    "execution": {
     "iopub.execute_input": "2022-02-16T18:55:24.577614Z",
     "iopub.status.busy": "2022-02-16T18:55:24.577028Z",
     "iopub.status.idle": "2022-02-16T18:55:24.734405Z",
     "shell.execute_reply": "2022-02-16T18:55:24.733764Z",
     "shell.execute_reply.started": "2022-02-16T18:35:38.346016Z"
    },
    "papermill": {
     "duration": 0.176052,
     "end_time": "2022-02-16T18:55:24.734542",
     "exception": false,
     "start_time": "2022-02-16T18:55:24.558490",
     "status": "completed"
    },
    "tags": []
   },
   "outputs": [],
   "source": [
    "df = pd.read_csv('cardio_train.csv', sep=';', index_col=0)"
   ]
  },
  {
   "cell_type": "markdown",
   "id": "8f10357d",
   "metadata": {
    "papermill": {
     "duration": 0.015501,
     "end_time": "2022-02-16T18:55:24.766078",
     "exception": false,
     "start_time": "2022-02-16T18:55:24.750577",
     "status": "completed"
    },
    "tags": []
   },
   "source": [
    "# Data Analysis"
   ]
  },
  {
   "cell_type": "code",
   "execution_count": 3,
   "id": "a48baeca",
   "metadata": {
    "execution": {
     "iopub.execute_input": "2022-02-16T18:55:24.804119Z",
     "iopub.status.busy": "2022-02-16T18:55:24.803329Z",
     "iopub.status.idle": "2022-02-16T18:55:24.818498Z",
     "shell.execute_reply": "2022-02-16T18:55:24.818978Z",
     "shell.execute_reply.started": "2022-02-16T18:36:18.486592Z"
    },
    "papermill": {
     "duration": 0.037772,
     "end_time": "2022-02-16T18:55:24.819161",
     "exception": false,
     "start_time": "2022-02-16T18:55:24.781389",
     "status": "completed"
    },
    "tags": []
   },
   "outputs": [
    {
     "data": {
      "text/html": [
       "<div>\n",
       "<style scoped>\n",
       "    .dataframe tbody tr th:only-of-type {\n",
       "        vertical-align: middle;\n",
       "    }\n",
       "\n",
       "    .dataframe tbody tr th {\n",
       "        vertical-align: top;\n",
       "    }\n",
       "\n",
       "    .dataframe thead th {\n",
       "        text-align: right;\n",
       "    }\n",
       "</style>\n",
       "<table border=\"1\" class=\"dataframe\">\n",
       "  <thead>\n",
       "    <tr style=\"text-align: right;\">\n",
       "      <th></th>\n",
       "      <th>age</th>\n",
       "      <th>gender</th>\n",
       "      <th>height</th>\n",
       "      <th>weight</th>\n",
       "      <th>ap_hi</th>\n",
       "      <th>ap_lo</th>\n",
       "      <th>cholesterol</th>\n",
       "      <th>gluc</th>\n",
       "      <th>smoke</th>\n",
       "      <th>alco</th>\n",
       "      <th>active</th>\n",
       "      <th>cardio</th>\n",
       "    </tr>\n",
       "    <tr>\n",
       "      <th>id</th>\n",
       "      <th></th>\n",
       "      <th></th>\n",
       "      <th></th>\n",
       "      <th></th>\n",
       "      <th></th>\n",
       "      <th></th>\n",
       "      <th></th>\n",
       "      <th></th>\n",
       "      <th></th>\n",
       "      <th></th>\n",
       "      <th></th>\n",
       "      <th></th>\n",
       "    </tr>\n",
       "  </thead>\n",
       "  <tbody>\n",
       "    <tr>\n",
       "      <th>0</th>\n",
       "      <td>18393</td>\n",
       "      <td>2</td>\n",
       "      <td>168</td>\n",
       "      <td>62.0</td>\n",
       "      <td>110</td>\n",
       "      <td>80</td>\n",
       "      <td>1</td>\n",
       "      <td>1</td>\n",
       "      <td>0</td>\n",
       "      <td>0</td>\n",
       "      <td>1</td>\n",
       "      <td>0</td>\n",
       "    </tr>\n",
       "    <tr>\n",
       "      <th>1</th>\n",
       "      <td>20228</td>\n",
       "      <td>1</td>\n",
       "      <td>156</td>\n",
       "      <td>85.0</td>\n",
       "      <td>140</td>\n",
       "      <td>90</td>\n",
       "      <td>3</td>\n",
       "      <td>1</td>\n",
       "      <td>0</td>\n",
       "      <td>0</td>\n",
       "      <td>1</td>\n",
       "      <td>1</td>\n",
       "    </tr>\n",
       "    <tr>\n",
       "      <th>2</th>\n",
       "      <td>18857</td>\n",
       "      <td>1</td>\n",
       "      <td>165</td>\n",
       "      <td>64.0</td>\n",
       "      <td>130</td>\n",
       "      <td>70</td>\n",
       "      <td>3</td>\n",
       "      <td>1</td>\n",
       "      <td>0</td>\n",
       "      <td>0</td>\n",
       "      <td>0</td>\n",
       "      <td>1</td>\n",
       "    </tr>\n",
       "    <tr>\n",
       "      <th>3</th>\n",
       "      <td>17623</td>\n",
       "      <td>2</td>\n",
       "      <td>169</td>\n",
       "      <td>82.0</td>\n",
       "      <td>150</td>\n",
       "      <td>100</td>\n",
       "      <td>1</td>\n",
       "      <td>1</td>\n",
       "      <td>0</td>\n",
       "      <td>0</td>\n",
       "      <td>1</td>\n",
       "      <td>1</td>\n",
       "    </tr>\n",
       "    <tr>\n",
       "      <th>4</th>\n",
       "      <td>17474</td>\n",
       "      <td>1</td>\n",
       "      <td>156</td>\n",
       "      <td>56.0</td>\n",
       "      <td>100</td>\n",
       "      <td>60</td>\n",
       "      <td>1</td>\n",
       "      <td>1</td>\n",
       "      <td>0</td>\n",
       "      <td>0</td>\n",
       "      <td>0</td>\n",
       "      <td>0</td>\n",
       "    </tr>\n",
       "  </tbody>\n",
       "</table>\n",
       "</div>"
      ],
      "text/plain": [
       "      age  gender  height  weight  ap_hi  ap_lo  cholesterol  gluc  smoke  \\\n",
       "id                                                                          \n",
       "0   18393       2     168    62.0    110     80            1     1      0   \n",
       "1   20228       1     156    85.0    140     90            3     1      0   \n",
       "2   18857       1     165    64.0    130     70            3     1      0   \n",
       "3   17623       2     169    82.0    150    100            1     1      0   \n",
       "4   17474       1     156    56.0    100     60            1     1      0   \n",
       "\n",
       "    alco  active  cardio  \n",
       "id                        \n",
       "0      0       1       0  \n",
       "1      0       1       1  \n",
       "2      0       0       1  \n",
       "3      0       1       1  \n",
       "4      0       0       0  "
      ]
     },
     "execution_count": 3,
     "metadata": {},
     "output_type": "execute_result"
    }
   ],
   "source": [
    "df.head()"
   ]
  },
  {
   "cell_type": "code",
   "execution_count": 4,
   "id": "28fcb9bf",
   "metadata": {
    "execution": {
     "iopub.execute_input": "2022-02-16T18:55:24.855834Z",
     "iopub.status.busy": "2022-02-16T18:55:24.854939Z",
     "iopub.status.idle": "2022-02-16T18:55:24.919245Z",
     "shell.execute_reply": "2022-02-16T18:55:24.919647Z",
     "shell.execute_reply.started": "2022-02-16T18:36:21.590612Z"
    },
    "papermill": {
     "duration": 0.084196,
     "end_time": "2022-02-16T18:55:24.919831",
     "exception": false,
     "start_time": "2022-02-16T18:55:24.835635",
     "status": "completed"
    },
    "tags": []
   },
   "outputs": [
    {
     "data": {
      "text/html": [
       "<div>\n",
       "<style scoped>\n",
       "    .dataframe tbody tr th:only-of-type {\n",
       "        vertical-align: middle;\n",
       "    }\n",
       "\n",
       "    .dataframe tbody tr th {\n",
       "        vertical-align: top;\n",
       "    }\n",
       "\n",
       "    .dataframe thead th {\n",
       "        text-align: right;\n",
       "    }\n",
       "</style>\n",
       "<table border=\"1\" class=\"dataframe\">\n",
       "  <thead>\n",
       "    <tr style=\"text-align: right;\">\n",
       "      <th></th>\n",
       "      <th>age</th>\n",
       "      <th>gender</th>\n",
       "      <th>height</th>\n",
       "      <th>weight</th>\n",
       "      <th>ap_hi</th>\n",
       "      <th>ap_lo</th>\n",
       "      <th>cholesterol</th>\n",
       "      <th>gluc</th>\n",
       "      <th>smoke</th>\n",
       "      <th>alco</th>\n",
       "      <th>active</th>\n",
       "      <th>cardio</th>\n",
       "    </tr>\n",
       "  </thead>\n",
       "  <tbody>\n",
       "    <tr>\n",
       "      <th>count</th>\n",
       "      <td>70000.000000</td>\n",
       "      <td>70000.000000</td>\n",
       "      <td>70000.000000</td>\n",
       "      <td>70000.000000</td>\n",
       "      <td>70000.000000</td>\n",
       "      <td>70000.000000</td>\n",
       "      <td>70000.000000</td>\n",
       "      <td>70000.000000</td>\n",
       "      <td>70000.000000</td>\n",
       "      <td>70000.000000</td>\n",
       "      <td>70000.000000</td>\n",
       "      <td>70000.000000</td>\n",
       "    </tr>\n",
       "    <tr>\n",
       "      <th>mean</th>\n",
       "      <td>19468.865814</td>\n",
       "      <td>1.349571</td>\n",
       "      <td>164.359229</td>\n",
       "      <td>74.205690</td>\n",
       "      <td>128.817286</td>\n",
       "      <td>96.630414</td>\n",
       "      <td>1.366871</td>\n",
       "      <td>1.226457</td>\n",
       "      <td>0.088129</td>\n",
       "      <td>0.053771</td>\n",
       "      <td>0.803729</td>\n",
       "      <td>0.499700</td>\n",
       "    </tr>\n",
       "    <tr>\n",
       "      <th>std</th>\n",
       "      <td>2467.251667</td>\n",
       "      <td>0.476838</td>\n",
       "      <td>8.210126</td>\n",
       "      <td>14.395757</td>\n",
       "      <td>154.011419</td>\n",
       "      <td>188.472530</td>\n",
       "      <td>0.680250</td>\n",
       "      <td>0.572270</td>\n",
       "      <td>0.283484</td>\n",
       "      <td>0.225568</td>\n",
       "      <td>0.397179</td>\n",
       "      <td>0.500003</td>\n",
       "    </tr>\n",
       "    <tr>\n",
       "      <th>min</th>\n",
       "      <td>10798.000000</td>\n",
       "      <td>1.000000</td>\n",
       "      <td>55.000000</td>\n",
       "      <td>10.000000</td>\n",
       "      <td>-150.000000</td>\n",
       "      <td>-70.000000</td>\n",
       "      <td>1.000000</td>\n",
       "      <td>1.000000</td>\n",
       "      <td>0.000000</td>\n",
       "      <td>0.000000</td>\n",
       "      <td>0.000000</td>\n",
       "      <td>0.000000</td>\n",
       "    </tr>\n",
       "    <tr>\n",
       "      <th>25%</th>\n",
       "      <td>17664.000000</td>\n",
       "      <td>1.000000</td>\n",
       "      <td>159.000000</td>\n",
       "      <td>65.000000</td>\n",
       "      <td>120.000000</td>\n",
       "      <td>80.000000</td>\n",
       "      <td>1.000000</td>\n",
       "      <td>1.000000</td>\n",
       "      <td>0.000000</td>\n",
       "      <td>0.000000</td>\n",
       "      <td>1.000000</td>\n",
       "      <td>0.000000</td>\n",
       "    </tr>\n",
       "    <tr>\n",
       "      <th>50%</th>\n",
       "      <td>19703.000000</td>\n",
       "      <td>1.000000</td>\n",
       "      <td>165.000000</td>\n",
       "      <td>72.000000</td>\n",
       "      <td>120.000000</td>\n",
       "      <td>80.000000</td>\n",
       "      <td>1.000000</td>\n",
       "      <td>1.000000</td>\n",
       "      <td>0.000000</td>\n",
       "      <td>0.000000</td>\n",
       "      <td>1.000000</td>\n",
       "      <td>0.000000</td>\n",
       "    </tr>\n",
       "    <tr>\n",
       "      <th>75%</th>\n",
       "      <td>21327.000000</td>\n",
       "      <td>2.000000</td>\n",
       "      <td>170.000000</td>\n",
       "      <td>82.000000</td>\n",
       "      <td>140.000000</td>\n",
       "      <td>90.000000</td>\n",
       "      <td>2.000000</td>\n",
       "      <td>1.000000</td>\n",
       "      <td>0.000000</td>\n",
       "      <td>0.000000</td>\n",
       "      <td>1.000000</td>\n",
       "      <td>1.000000</td>\n",
       "    </tr>\n",
       "    <tr>\n",
       "      <th>max</th>\n",
       "      <td>23713.000000</td>\n",
       "      <td>2.000000</td>\n",
       "      <td>250.000000</td>\n",
       "      <td>200.000000</td>\n",
       "      <td>16020.000000</td>\n",
       "      <td>11000.000000</td>\n",
       "      <td>3.000000</td>\n",
       "      <td>3.000000</td>\n",
       "      <td>1.000000</td>\n",
       "      <td>1.000000</td>\n",
       "      <td>1.000000</td>\n",
       "      <td>1.000000</td>\n",
       "    </tr>\n",
       "  </tbody>\n",
       "</table>\n",
       "</div>"
      ],
      "text/plain": [
       "                age        gender        height        weight         ap_hi  \\\n",
       "count  70000.000000  70000.000000  70000.000000  70000.000000  70000.000000   \n",
       "mean   19468.865814      1.349571    164.359229     74.205690    128.817286   \n",
       "std     2467.251667      0.476838      8.210126     14.395757    154.011419   \n",
       "min    10798.000000      1.000000     55.000000     10.000000   -150.000000   \n",
       "25%    17664.000000      1.000000    159.000000     65.000000    120.000000   \n",
       "50%    19703.000000      1.000000    165.000000     72.000000    120.000000   \n",
       "75%    21327.000000      2.000000    170.000000     82.000000    140.000000   \n",
       "max    23713.000000      2.000000    250.000000    200.000000  16020.000000   \n",
       "\n",
       "              ap_lo   cholesterol          gluc         smoke          alco  \\\n",
       "count  70000.000000  70000.000000  70000.000000  70000.000000  70000.000000   \n",
       "mean      96.630414      1.366871      1.226457      0.088129      0.053771   \n",
       "std      188.472530      0.680250      0.572270      0.283484      0.225568   \n",
       "min      -70.000000      1.000000      1.000000      0.000000      0.000000   \n",
       "25%       80.000000      1.000000      1.000000      0.000000      0.000000   \n",
       "50%       80.000000      1.000000      1.000000      0.000000      0.000000   \n",
       "75%       90.000000      2.000000      1.000000      0.000000      0.000000   \n",
       "max    11000.000000      3.000000      3.000000      1.000000      1.000000   \n",
       "\n",
       "             active        cardio  \n",
       "count  70000.000000  70000.000000  \n",
       "mean       0.803729      0.499700  \n",
       "std        0.397179      0.500003  \n",
       "min        0.000000      0.000000  \n",
       "25%        1.000000      0.000000  \n",
       "50%        1.000000      0.000000  \n",
       "75%        1.000000      1.000000  \n",
       "max        1.000000      1.000000  "
      ]
     },
     "execution_count": 4,
     "metadata": {},
     "output_type": "execute_result"
    }
   ],
   "source": [
    "df.describe()"
   ]
  },
  {
   "cell_type": "code",
   "execution_count": 5,
   "id": "7c259a53",
   "metadata": {
    "execution": {
     "iopub.execute_input": "2022-02-16T18:55:24.956351Z",
     "iopub.status.busy": "2022-02-16T18:55:24.955405Z",
     "iopub.status.idle": "2022-02-16T18:55:24.963590Z",
     "shell.execute_reply": "2022-02-16T18:55:24.964432Z",
     "shell.execute_reply.started": "2022-02-16T18:37:01.112074Z"
    },
    "papermill": {
     "duration": 0.028406,
     "end_time": "2022-02-16T18:55:24.964653",
     "exception": false,
     "start_time": "2022-02-16T18:55:24.936247",
     "status": "completed"
    },
    "tags": []
   },
   "outputs": [
    {
     "name": "stdout",
     "output_type": "stream",
     "text": [
      "There are no missing values in the dataset\n"
     ]
    }
   ],
   "source": [
    "if df.isna().sum().sum() > 0:\n",
    "    print('There are missing values in the dataset')\n",
    "else:\n",
    "    print('There are no missing values in the dataset')\n"
   ]
  },
  {
   "cell_type": "code",
   "execution_count": 6,
   "id": "397025be",
   "metadata": {
    "execution": {
     "iopub.execute_input": "2022-02-16T18:55:25.003022Z",
     "iopub.status.busy": "2022-02-16T18:55:25.002086Z",
     "iopub.status.idle": "2022-02-16T18:55:25.018394Z",
     "shell.execute_reply": "2022-02-16T18:55:25.017801Z",
     "shell.execute_reply.started": "2022-02-16T18:37:03.531521Z"
    },
    "papermill": {
     "duration": 0.036225,
     "end_time": "2022-02-16T18:55:25.018542",
     "exception": false,
     "start_time": "2022-02-16T18:55:24.982317",
     "status": "completed"
    },
    "tags": []
   },
   "outputs": [
    {
     "name": "stdout",
     "output_type": "stream",
     "text": [
      "<class 'pandas.core.frame.DataFrame'>\n",
      "Int64Index: 70000 entries, 0 to 99999\n",
      "Data columns (total 12 columns):\n",
      " #   Column       Non-Null Count  Dtype  \n",
      "---  ------       --------------  -----  \n",
      " 0   age          70000 non-null  int64  \n",
      " 1   gender       70000 non-null  int64  \n",
      " 2   height       70000 non-null  int64  \n",
      " 3   weight       70000 non-null  float64\n",
      " 4   ap_hi        70000 non-null  int64  \n",
      " 5   ap_lo        70000 non-null  int64  \n",
      " 6   cholesterol  70000 non-null  int64  \n",
      " 7   gluc         70000 non-null  int64  \n",
      " 8   smoke        70000 non-null  int64  \n",
      " 9   alco         70000 non-null  int64  \n",
      " 10  active       70000 non-null  int64  \n",
      " 11  cardio       70000 non-null  int64  \n",
      "dtypes: float64(1), int64(11)\n",
      "memory usage: 6.9 MB\n"
     ]
    }
   ],
   "source": [
    "df.info()"
   ]
  },
  {
   "cell_type": "code",
   "execution_count": 7,
   "id": "468070ce",
   "metadata": {
    "execution": {
     "iopub.execute_input": "2022-02-16T18:55:25.059685Z",
     "iopub.status.busy": "2022-02-16T18:55:25.059024Z",
     "iopub.status.idle": "2022-02-16T18:55:25.078813Z",
     "shell.execute_reply": "2022-02-16T18:55:25.078146Z",
     "shell.execute_reply.started": "2022-02-16T18:37:14.677441Z"
    },
    "papermill": {
     "duration": 0.043485,
     "end_time": "2022-02-16T18:55:25.078956",
     "exception": false,
     "start_time": "2022-02-16T18:55:25.035471",
     "status": "completed"
    },
    "tags": []
   },
   "outputs": [],
   "source": [
    "df[['gender', 'cholesterol', 'gluc', 'smoke', 'alco', 'active', 'cardio']] = df[['gender', 'cholesterol', 'gluc', 'smoke', 'alco', 'active', 'cardio']].astype('category')"
   ]
  },
  {
   "cell_type": "code",
   "execution_count": 8,
   "id": "6c5ed1a1",
   "metadata": {
    "execution": {
     "iopub.execute_input": "2022-02-16T18:55:25.122812Z",
     "iopub.status.busy": "2022-02-16T18:55:25.122190Z",
     "iopub.status.idle": "2022-02-16T18:55:25.817341Z",
     "shell.execute_reply": "2022-02-16T18:55:25.817824Z",
     "shell.execute_reply.started": "2022-02-16T18:38:01.837342Z"
    },
    "papermill": {
     "duration": 0.721607,
     "end_time": "2022-02-16T18:55:25.817988",
     "exception": false,
     "start_time": "2022-02-16T18:55:25.096381",
     "status": "completed"
    },
    "tags": []
   },
   "outputs": [
    {
     "data": {
      "image/png": "[encoded data removed]",
      "text/plain": [
       "<Figure size 1152x360 with 5 Axes>"
      ]
     },
     "metadata": {
      "needs_background": "light"
     },
     "output_type": "display_data"
    }
   ],
   "source": [
    "#Identification of Outliers\n",
    "\n",
    "fig, axes = plt.subplots(1, 5, figsize=(16, 5))\n",
    "sns.boxplot(data=df, y='age', ax=axes[0])\n",
    "sns.boxplot(data=df, y='height', ax=axes[1])\n",
    "sns.boxplot(data=df, y='weight', ax=axes[2])\n",
    "sns.boxplot(data=df, y='ap_hi', ax=axes[3])\n",
    "sns.boxplot(data=df, y='ap_lo', ax=axes[4])\n",
    "plt.tight_layout()"
   ]
  },
  {
   "cell_type": "code",
   "execution_count": 9,
   "id": "d2858469",
   "metadata": {
    "execution": {
     "iopub.execute_input": "2022-02-16T18:55:25.858650Z",
     "iopub.status.busy": "2022-02-16T18:55:25.857762Z",
     "iopub.status.idle": "2022-02-16T18:55:25.893923Z",
     "shell.execute_reply": "2022-02-16T18:55:25.894419Z",
     "shell.execute_reply.started": "2022-02-16T18:39:12.827802Z"
    },
    "papermill": {
     "duration": 0.05785,
     "end_time": "2022-02-16T18:55:25.894581",
     "exception": false,
     "start_time": "2022-02-16T18:55:25.836731",
     "status": "completed"
    },
    "tags": []
   },
   "outputs": [],
   "source": [
    "#Adding Indications\n",
    "\n",
    "num_cols = ['age', 'height', 'weight', 'ap_hi', 'ap_lo']\n",
    "\n",
    "for col in num_cols:\n",
    "    high_q = df[col].quantile(0.95)\n",
    "    low_q = df[col].quantile(0.05)\n",
    "    \n",
    "    df['{}_outlier'.format(col)] = np.where((df[col] > high_q) | (df[col] < low_q), 1, 0)\n",
    "    df['{}_outlier'.format(col)] = df['{}_outlier'.format(col)].astype('category')\n",
    "    "
   ]
  },
  {
   "cell_type": "code",
   "execution_count": 10,
   "id": "63fa8a7a",
   "metadata": {
    "execution": {
     "iopub.execute_input": "2022-02-16T18:55:25.951576Z",
     "iopub.status.busy": "2022-02-16T18:55:25.937289Z",
     "iopub.status.idle": "2022-02-16T18:55:25.955213Z",
     "shell.execute_reply": "2022-02-16T18:55:25.954644Z",
     "shell.execute_reply.started": "2022-02-16T18:39:39.390225Z"
    },
    "papermill": {
     "duration": 0.042231,
     "end_time": "2022-02-16T18:55:25.955352",
     "exception": false,
     "start_time": "2022-02-16T18:55:25.913121",
     "status": "completed"
    },
    "tags": []
   },
   "outputs": [
    {
     "data": {
      "text/html": [
       "<div>\n",
       "<style scoped>\n",
       "    .dataframe tbody tr th:only-of-type {\n",
       "        vertical-align: middle;\n",
       "    }\n",
       "\n",
       "    .dataframe tbody tr th {\n",
       "        vertical-align: top;\n",
       "    }\n",
       "\n",
       "    .dataframe thead th {\n",
       "        text-align: right;\n",
       "    }\n",
       "</style>\n",
       "<table border=\"1\" class=\"dataframe\">\n",
       "  <thead>\n",
       "    <tr style=\"text-align: right;\">\n",
       "      <th></th>\n",
       "      <th>age</th>\n",
       "      <th>gender</th>\n",
       "      <th>height</th>\n",
       "      <th>weight</th>\n",
       "      <th>ap_hi</th>\n",
       "      <th>ap_lo</th>\n",
       "      <th>cholesterol</th>\n",
       "      <th>gluc</th>\n",
       "      <th>smoke</th>\n",
       "      <th>alco</th>\n",
       "      <th>active</th>\n",
       "      <th>cardio</th>\n",
       "      <th>age_outlier</th>\n",
       "      <th>height_outlier</th>\n",
       "      <th>weight_outlier</th>\n",
       "      <th>ap_hi_outlier</th>\n",
       "      <th>ap_lo_outlier</th>\n",
       "    </tr>\n",
       "    <tr>\n",
       "      <th>id</th>\n",
       "      <th></th>\n",
       "      <th></th>\n",
       "      <th></th>\n",
       "      <th></th>\n",
       "      <th></th>\n",
       "      <th></th>\n",
       "      <th></th>\n",
       "      <th></th>\n",
       "      <th></th>\n",
       "      <th></th>\n",
       "      <th></th>\n",
       "      <th></th>\n",
       "      <th></th>\n",
       "      <th></th>\n",
       "      <th></th>\n",
       "      <th></th>\n",
       "      <th></th>\n",
       "    </tr>\n",
       "  </thead>\n",
       "  <tbody>\n",
       "    <tr>\n",
       "      <th>0</th>\n",
       "      <td>18393</td>\n",
       "      <td>2</td>\n",
       "      <td>168</td>\n",
       "      <td>62.0</td>\n",
       "      <td>110</td>\n",
       "      <td>80</td>\n",
       "      <td>1</td>\n",
       "      <td>1</td>\n",
       "      <td>0</td>\n",
       "      <td>0</td>\n",
       "      <td>1</td>\n",
       "      <td>0</td>\n",
       "      <td>0</td>\n",
       "      <td>0</td>\n",
       "      <td>0</td>\n",
       "      <td>0</td>\n",
       "      <td>0</td>\n",
       "    </tr>\n",
       "    <tr>\n",
       "      <th>1</th>\n",
       "      <td>20228</td>\n",
       "      <td>1</td>\n",
       "      <td>156</td>\n",
       "      <td>85.0</td>\n",
       "      <td>140</td>\n",
       "      <td>90</td>\n",
       "      <td>3</td>\n",
       "      <td>1</td>\n",
       "      <td>0</td>\n",
       "      <td>0</td>\n",
       "      <td>1</td>\n",
       "      <td>1</td>\n",
       "      <td>0</td>\n",
       "      <td>0</td>\n",
       "      <td>0</td>\n",
       "      <td>0</td>\n",
       "      <td>0</td>\n",
       "    </tr>\n",
       "    <tr>\n",
       "      <th>2</th>\n",
       "      <td>18857</td>\n",
       "      <td>1</td>\n",
       "      <td>165</td>\n",
       "      <td>64.0</td>\n",
       "      <td>130</td>\n",
       "      <td>70</td>\n",
       "      <td>3</td>\n",
       "      <td>1</td>\n",
       "      <td>0</td>\n",
       "      <td>0</td>\n",
       "      <td>0</td>\n",
       "      <td>1</td>\n",
       "      <td>0</td>\n",
       "      <td>0</td>\n",
       "      <td>0</td>\n",
       "      <td>0</td>\n",
       "      <td>0</td>\n",
       "    </tr>\n",
       "    <tr>\n",
       "      <th>3</th>\n",
       "      <td>17623</td>\n",
       "      <td>2</td>\n",
       "      <td>169</td>\n",
       "      <td>82.0</td>\n",
       "      <td>150</td>\n",
       "      <td>100</td>\n",
       "      <td>1</td>\n",
       "      <td>1</td>\n",
       "      <td>0</td>\n",
       "      <td>0</td>\n",
       "      <td>1</td>\n",
       "      <td>1</td>\n",
       "      <td>0</td>\n",
       "      <td>0</td>\n",
       "      <td>0</td>\n",
       "      <td>0</td>\n",
       "      <td>0</td>\n",
       "    </tr>\n",
       "    <tr>\n",
       "      <th>4</th>\n",
       "      <td>17474</td>\n",
       "      <td>1</td>\n",
       "      <td>156</td>\n",
       "      <td>56.0</td>\n",
       "      <td>100</td>\n",
       "      <td>60</td>\n",
       "      <td>1</td>\n",
       "      <td>1</td>\n",
       "      <td>0</td>\n",
       "      <td>0</td>\n",
       "      <td>0</td>\n",
       "      <td>0</td>\n",
       "      <td>0</td>\n",
       "      <td>0</td>\n",
       "      <td>0</td>\n",
       "      <td>0</td>\n",
       "      <td>1</td>\n",
       "    </tr>\n",
       "  </tbody>\n",
       "</table>\n",
       "</div>"
      ],
      "text/plain": [
       "      age gender  height  weight  ap_hi  ap_lo cholesterol gluc smoke alco  \\\n",
       "id                                                                           \n",
       "0   18393      2     168    62.0    110     80           1    1     0    0   \n",
       "1   20228      1     156    85.0    140     90           3    1     0    0   \n",
       "2   18857      1     165    64.0    130     70           3    1     0    0   \n",
       "3   17623      2     169    82.0    150    100           1    1     0    0   \n",
       "4   17474      1     156    56.0    100     60           1    1     0    0   \n",
       "\n",
       "   active cardio age_outlier height_outlier weight_outlier ap_hi_outlier  \\\n",
       "id                                                                         \n",
       "0       1      0           0              0              0             0   \n",
       "1       1      1           0              0              0             0   \n",
       "2       0      1           0              0              0             0   \n",
       "3       1      1           0              0              0             0   \n",
       "4       0      0           0              0              0             0   \n",
       "\n",
       "   ap_lo_outlier  \n",
       "id                \n",
       "0              0  \n",
       "1              0  \n",
       "2              0  \n",
       "3              0  \n",
       "4              1  "
      ]
     },
     "execution_count": 10,
     "metadata": {},
     "output_type": "execute_result"
    }
   ],
   "source": [
    "df.head()"
   ]
  },
  {
   "cell_type": "code",
   "execution_count": 11,
   "id": "1770f682",
   "metadata": {
    "execution": {
     "iopub.execute_input": "2022-02-16T18:55:26.024244Z",
     "iopub.status.busy": "2022-02-16T18:55:26.010768Z",
     "iopub.status.idle": "2022-02-16T18:55:26.654042Z",
     "shell.execute_reply": "2022-02-16T18:55:26.653553Z",
     "shell.execute_reply.started": "2022-02-16T18:41:22.321537Z"
    },
    "papermill": {
     "duration": 0.679544,
     "end_time": "2022-02-16T18:55:26.654205",
     "exception": false,
     "start_time": "2022-02-16T18:55:25.974661",
     "status": "completed"
    },
    "tags": []
   },
   "outputs": [
    {
     "data": {
      "image/png": "[encoded data removed]",
      "text/plain": [
       "<Figure size 1152x576 with 6 Axes>"
      ]
     },
     "metadata": {
      "needs_background": "light"
     },
     "output_type": "display_data"
    }
   ],
   "source": [
    "#Identifing Outliers in Categorical\n",
    "\n",
    "fig, axes = plt.subplots(2, 3, figsize=(16, 8), sharey=True)\n",
    "sns.countplot(data=df, x='cholesterol', ax=axes[0, 0])\n",
    "sns.countplot(data=df, x='gluc', ax=axes[0, 1])\n",
    "sns.countplot(data=df, x='smoke', ax=axes[0, 2])\n",
    "sns.countplot(data=df, x='alco', ax=axes[1, 0])\n",
    "sns.countplot(data=df, x='active', ax=axes[1, 1])\n",
    "sns.countplot(data=df, x='cardio', ax=axes[1, 2])\n",
    "plt.tight_layout()"
   ]
  },
  {
   "cell_type": "code",
   "execution_count": 12,
   "id": "99357baf",
   "metadata": {
    "execution": {
     "iopub.execute_input": "2022-02-16T18:55:26.709625Z",
     "iopub.status.busy": "2022-02-16T18:55:26.709001Z",
     "iopub.status.idle": "2022-02-16T18:55:27.553850Z",
     "shell.execute_reply": "2022-02-16T18:55:27.553347Z",
     "shell.execute_reply.started": "2022-02-16T18:42:04.758009Z"
    },
    "papermill": {
     "duration": 0.879509,
     "end_time": "2022-02-16T18:55:27.553996",
     "exception": false,
     "start_time": "2022-02-16T18:55:26.674487",
     "status": "completed"
    },
    "tags": []
   },
   "outputs": [
    {
     "data": {
      "image/png": "[encoded data removed]",
      "text/plain": [
       "<Figure size 1152x576 with 5 Axes>"
      ]
     },
     "metadata": {
      "needs_background": "light"
     },
     "output_type": "display_data"
    }
   ],
   "source": [
    "#distribution of the target feature by categorical features\n",
    "\n",
    "\n",
    "fig, axes = plt.subplots(2, 3, figsize=(16, 8), sharey=True)\n",
    "sns.countplot(data=df, x='cholesterol', hue='cardio', ax=axes[0, 0])\n",
    "sns.countplot(data=df, x='gluc', hue='cardio', ax=axes[0, 1])\n",
    "sns.countplot(data=df, x='smoke', hue='cardio', ax=axes[0, 2])\n",
    "sns.countplot(data=df, x='alco', hue='cardio', ax=axes[1, 0])\n",
    "sns.countplot(data=df, x='active', hue='cardio', ax=axes[1, 1])\n",
    "\n",
    "fig.delaxes(axes[1, 2])\n",
    "\n",
    "plt.tight_layout()"
   ]
  },
  {
   "cell_type": "code",
   "execution_count": 13,
   "id": "9d138c5a",
   "metadata": {
    "execution": {
     "iopub.execute_input": "2022-02-16T18:55:27.600170Z",
     "iopub.status.busy": "2022-02-16T18:55:27.599528Z",
     "iopub.status.idle": "2022-02-16T18:55:30.693337Z",
     "shell.execute_reply": "2022-02-16T18:55:30.693789Z",
     "shell.execute_reply.started": "2022-02-16T18:42:50.184021Z"
    },
    "papermill": {
     "duration": 3.117997,
     "end_time": "2022-02-16T18:55:30.693949",
     "exception": false,
     "start_time": "2022-02-16T18:55:27.575952",
     "status": "completed"
    },
    "tags": []
   },
   "outputs": [
    {
     "data": {
      "image/png": "[encoded data removed]",
      "text/plain": [
       "<Figure size 1152x576 with 5 Axes>"
      ]
     },
     "metadata": {
      "needs_background": "light"
     },
     "output_type": "display_data"
    }
   ],
   "source": [
    "#distribution of the target variable on quantitative features\n",
    "\n",
    "fig, axes = plt.subplots(2, 3, figsize=(16, 8))\n",
    "sns.kdeplot(data=df, x='age', hue='cardio', ax=axes[0, 0])\n",
    "sns.kdeplot(data=df, x='height', hue='cardio', ax=axes[0, 1])\n",
    "sns.kdeplot(data=df, x='weight', hue='cardio', ax=axes[0, 2])\n",
    "sns.kdeplot(data=df, x='ap_hi', hue='cardio', ax=axes[1, 0])\n",
    "sns.kdeplot(data=df, x='ap_lo', hue='cardio', ax=axes[1, 1])\n",
    "\n",
    "fig.delaxes(axes[1, 2])\n",
    "\n",
    "plt.tight_layout()"
   ]
  },
  {
   "cell_type": "code",
   "execution_count": 14,
   "id": "deda8374",
   "metadata": {
    "execution": {
     "iopub.execute_input": "2022-02-16T18:55:30.763635Z",
     "iopub.status.busy": "2022-02-16T18:55:30.763017Z",
     "iopub.status.idle": "2022-02-16T18:55:31.517162Z",
     "shell.execute_reply": "2022-02-16T18:55:31.516552Z",
     "shell.execute_reply.started": "2022-02-16T18:43:38.339292Z"
    },
    "papermill": {
     "duration": 0.800315,
     "end_time": "2022-02-16T18:55:31.517306",
     "exception": false,
     "start_time": "2022-02-16T18:55:30.716991",
     "status": "completed"
    },
    "tags": []
   },
   "outputs": [
    {
     "data": {
      "image/png": "[encoded data removed]",
      "text/plain": [
       "<Figure size 1152x576 with 5 Axes>"
      ]
     },
     "metadata": {
      "needs_background": "light"
     },
     "output_type": "display_data"
    }
   ],
   "source": [
    "#search for distributions of a target trait by identifiers of outliers of quantitative traits\n",
    "\n",
    "fig, axes = plt.subplots(2, 3, figsize=(16, 8), sharey=True)\n",
    "sns.countplot(data=df, x='age_outlier', hue='cardio', ax=axes[0, 0])\n",
    "sns.countplot(data=df, x='height_outlier', hue='cardio', ax=axes[0, 1])\n",
    "sns.countplot(data=df, x='weight_outlier', hue='cardio', ax=axes[0, 2])\n",
    "sns.countplot(data=df, x='ap_hi_outlier', hue='cardio', ax=axes[1, 0])\n",
    "sns.countplot(data=df, x='ap_lo_outlier', hue='cardio', ax=axes[1, 1])\n",
    "\n",
    "fig.delaxes(axes[1, 2])\n",
    "\n",
    "plt.tight_layout()"
   ]
  },
  {
   "cell_type": "code",
   "execution_count": 15,
   "id": "7c7a5d09",
   "metadata": {
    "execution": {
     "iopub.execute_input": "2022-02-16T18:55:31.574710Z",
     "iopub.status.busy": "2022-02-16T18:55:31.574074Z",
     "iopub.status.idle": "2022-02-16T18:55:32.695384Z",
     "shell.execute_reply": "2022-02-16T18:55:32.695903Z",
     "shell.execute_reply.started": "2022-02-16T18:43:55.113810Z"
    },
    "papermill": {
     "duration": 1.153101,
     "end_time": "2022-02-16T18:55:32.696083",
     "exception": false,
     "start_time": "2022-02-16T18:55:31.542982",
     "status": "completed"
    },
    "tags": []
   },
   "outputs": [
    {
     "data": {
      "text/plain": [
       "<AxesSubplot:xlabel='ap_hi', ylabel='Density'>"
      ]
     },
     "execution_count": 15,
     "metadata": {},
     "output_type": "execute_result"
    },
    {
     "data": {
      "image/png": "[encoded data removed]",
      "text/plain": [
       "<Figure size 864x360 with 2 Axes>"
      ]
     },
     "metadata": {
      "needs_background": "light"
     },
     "output_type": "display_data"
    }
   ],
   "source": [
    "fig, axes = plt.subplots(1, 2, figsize=(12, 5))\n",
    "sns.kdeplot(x=np.log(df['ap_lo']+abs(df['ap_lo'].min()) + 1), hue=df['cardio'], ax=axes[0])\n",
    "sns.kdeplot(x=np.log(df['ap_hi']+abs(df['ap_hi'].min()) + 1), hue=df['cardio'], ax=axes[1])"
   ]
  },
  {
   "cell_type": "code",
   "execution_count": 16,
   "id": "15080ad2",
   "metadata": {
    "execution": {
     "iopub.execute_input": "2022-02-16T18:55:32.751657Z",
     "iopub.status.busy": "2022-02-16T18:55:32.750538Z",
     "iopub.status.idle": "2022-02-16T18:55:32.755160Z",
     "shell.execute_reply": "2022-02-16T18:55:32.754658Z",
     "shell.execute_reply.started": "2022-02-16T18:45:17.353137Z"
    },
    "papermill": {
     "duration": 0.034455,
     "end_time": "2022-02-16T18:55:32.755296",
     "exception": false,
     "start_time": "2022-02-16T18:55:32.720841",
     "status": "completed"
    },
    "tags": []
   },
   "outputs": [],
   "source": [
    "df['ap_lo'] = df['ap_lo']+abs(df['ap_lo']) + 1\n",
    "df['ap_hi'] = df['ap_hi']+abs(df['ap_hi']) + 1"
   ]
  },
  {
   "cell_type": "markdown",
   "id": "8b591529",
   "metadata": {
    "papermill": {
     "duration": 0.024401,
     "end_time": "2022-02-16T18:55:32.803979",
     "exception": false,
     "start_time": "2022-02-16T18:55:32.779578",
     "status": "completed"
    },
    "tags": []
   },
   "source": [
    "# Modeling"
   ]
  },
  {
   "cell_type": "code",
   "execution_count": 17,
   "id": "34ebbb72",
   "metadata": {
    "execution": {
     "iopub.execute_input": "2022-02-16T18:55:32.856004Z",
     "iopub.status.busy": "2022-02-16T18:55:32.855048Z",
     "iopub.status.idle": "2022-02-16T18:55:32.866755Z",
     "shell.execute_reply": "2022-02-16T18:55:32.867255Z",
     "shell.execute_reply.started": "2021-12-27T17:21:10.770272Z"
    },
    "papermill": {
     "duration": 0.039119,
     "end_time": "2022-02-16T18:55:32.867417",
     "exception": false,
     "start_time": "2022-02-16T18:55:32.828298",
     "status": "completed"
    },
    "tags": []
   },
   "outputs": [],
   "source": [
    "\n",
    "#split the dataset into training features and a target variable\n",
    "x = df.drop('cardio', axis=1)\n",
    "y = df['cardio']\n",
    "\n",
    "#choose categorical and numerical features\n",
    "cat_cols = x.select_dtypes(include=['category']).columns\n",
    "num_cols = x.select_dtypes(exclude=['category']).columns"
   ]
  },
  {
   "cell_type": "code",
   "execution_count": 18,
   "id": "3014cc74",
   "metadata": {
    "execution": {
     "iopub.execute_input": "2022-02-16T18:55:32.921607Z",
     "iopub.status.busy": "2022-02-16T18:55:32.920989Z",
     "iopub.status.idle": "2022-02-16T18:55:33.063640Z",
     "shell.execute_reply": "2022-02-16T18:55:33.063134Z",
     "shell.execute_reply.started": "2021-12-27T17:21:11.838398Z"
    },
    "papermill": {
     "duration": 0.172302,
     "end_time": "2022-02-16T18:55:33.063808",
     "exception": false,
     "start_time": "2022-02-16T18:55:32.891506",
     "status": "completed"
    },
    "tags": []
   },
   "outputs": [],
   "source": [
    "#feature converter\n",
    "\n",
    "from sklearn.compose import ColumnTransformer\n",
    "from sklearn.preprocessing import OneHotEncoder, StandardScaler\n",
    "\n",
    "cat_pipe = OneHotEncoder(drop='first')\n",
    "num_pipe = StandardScaler()\n",
    "\n",
    "col_trans = ColumnTransformer([\n",
    "    ('cat', cat_pipe, cat_cols),\n",
    "    ('num', num_pipe, num_cols)\n",
    "])"
   ]
  },
  {
   "cell_type": "code",
   "execution_count": 19,
   "id": "469162f2",
   "metadata": {
    "execution": {
     "iopub.execute_input": "2022-02-16T18:55:33.118266Z",
     "iopub.status.busy": "2022-02-16T18:55:33.117566Z",
     "iopub.status.idle": "2022-02-16T18:55:33.301968Z",
     "shell.execute_reply": "2022-02-16T18:55:33.301386Z"
    },
    "papermill": {
     "duration": 0.213789,
     "end_time": "2022-02-16T18:55:33.302110",
     "exception": false,
     "start_time": "2022-02-16T18:55:33.088321",
     "status": "completed"
    },
    "tags": []
   },
   "outputs": [],
   "source": [
    "from sklearn.model_selection import cross_val_score, train_test_split\n",
    "from sklearn.metrics import classification_report, confusion_matrix\n",
    "from sklearn.pipeline import make_pipeline\n",
    "from sklearn.neighbors import KNeighborsClassifier\n",
    "#from sklearn.tree import DecisionTreeClassifier\n",
    "#from sklearn.ensemble import RandomForestClassifier\n",
    "#from sklearn.svm import SVC"
   ]
  },
  {
   "cell_type": "code",
   "execution_count": 20,
   "id": "94412048",
   "metadata": {
    "execution": {
     "iopub.execute_input": "2022-02-16T18:55:33.357347Z",
     "iopub.status.busy": "2022-02-16T18:55:33.356700Z",
     "iopub.status.idle": "2022-02-16T18:56:10.831466Z",
     "shell.execute_reply": "2022-02-16T18:56:10.832200Z",
     "shell.execute_reply.started": "2021-12-27T17:21:12.061553Z"
    },
    "papermill": {
     "duration": 37.505964,
     "end_time": "2022-02-16T18:56:10.832425",
     "exception": false,
     "start_time": "2022-02-16T18:55:33.326461",
     "status": "completed"
    },
    "tags": []
   },
   "outputs": [
    {
     "name": "stdout",
     "output_type": "stream",
     "text": [
      "Average Cross Validation Accuracy: 64.78% +/-0.68%\n"
     ]
    }
   ],
   "source": [
    "clf = make_pipeline(col_trans, KNeighborsClassifier())\n",
    "\n",
    "cvs_res = cross_val_score(clf, x, y)\n",
    "print('Average Cross Validation Accuracy: {:.2%} +/-{:.2%}'.format(cvs_res.mean(), cvs_res.std()))"
   ]
  },
  {
   "cell_type": "code",
   "execution_count": 21,
   "id": "b298e87a",
   "metadata": {
    "execution": {
     "iopub.execute_input": "2022-02-16T18:56:10.887877Z",
     "iopub.status.busy": "2022-02-16T18:56:10.887244Z",
     "iopub.status.idle": "2022-02-16T18:56:10.929963Z",
     "shell.execute_reply": "2022-02-16T18:56:10.929424Z",
     "shell.execute_reply.started": "2021-12-27T17:21:15.019369Z"
    },
    "papermill": {
     "duration": 0.07205,
     "end_time": "2022-02-16T18:56:10.930131",
     "exception": false,
     "start_time": "2022-02-16T18:56:10.858081",
     "status": "completed"
    },
    "tags": []
   },
   "outputs": [],
   "source": [
    "\n",
    "#divide the data set into training and test\n",
    "x_train, x_test, y_train, y_test = train_test_split(x, y, test_size=0.3, stratify=y)"
   ]
  },
  {
   "cell_type": "code",
   "execution_count": 22,
   "id": "1dc09917",
   "metadata": {
    "execution": {
     "iopub.execute_input": "2022-02-16T18:56:10.989447Z",
     "iopub.status.busy": "2022-02-16T18:56:10.988314Z",
     "iopub.status.idle": "2022-02-16T18:56:20.024617Z",
     "shell.execute_reply": "2022-02-16T18:56:20.025121Z",
     "shell.execute_reply.started": "2021-12-27T17:21:15.132427Z"
    },
    "papermill": {
     "duration": 9.069824,
     "end_time": "2022-02-16T18:56:20.025288",
     "exception": false,
     "start_time": "2022-02-16T18:56:10.955464",
     "status": "completed"
    },
    "tags": []
   },
   "outputs": [],
   "source": [
    "#make predictions\n",
    "clf.fit(x_train, y_train)\n",
    "preds = clf.predict(x_test)"
   ]
  },
  {
   "cell_type": "code",
   "execution_count": 23,
   "id": "1d402f59",
   "metadata": {
    "execution": {
     "iopub.execute_input": "2022-02-16T18:56:20.079542Z",
     "iopub.status.busy": "2022-02-16T18:56:20.078925Z",
     "iopub.status.idle": "2022-02-16T18:56:20.120236Z",
     "shell.execute_reply": "2022-02-16T18:56:20.119724Z",
     "shell.execute_reply.started": "2021-12-27T17:21:15.66482Z"
    },
    "papermill": {
     "duration": 0.070459,
     "end_time": "2022-02-16T18:56:20.120428",
     "exception": false,
     "start_time": "2022-02-16T18:56:20.049969",
     "status": "completed"
    },
    "tags": []
   },
   "outputs": [
    {
     "name": "stdout",
     "output_type": "stream",
     "text": [
      "              precision    recall  f1-score   support\n",
      "\n",
      "           0       0.64      0.67      0.65     10506\n",
      "           1       0.65      0.62      0.63     10494\n",
      "\n",
      "    accuracy                           0.64     21000\n",
      "   macro avg       0.64      0.64      0.64     21000\n",
      "weighted avg       0.64      0.64      0.64     21000\n",
      "\n"
     ]
    }
   ],
   "source": [
    "#classification report\n",
    "print(classification_report(y_test, preds))"
   ]
  },
  {
   "cell_type": "code",
   "execution_count": 24,
   "id": "741aa958",
   "metadata": {
    "execution": {
     "iopub.execute_input": "2022-02-16T18:56:20.174434Z",
     "iopub.status.busy": "2022-02-16T18:56:20.173513Z",
     "iopub.status.idle": "2022-02-16T18:56:20.185542Z",
     "shell.execute_reply": "2022-02-16T18:56:20.186105Z",
     "shell.execute_reply.started": "2021-12-27T17:21:20.595296Z"
    },
    "papermill": {
     "duration": 0.040712,
     "end_time": "2022-02-16T18:56:20.186275",
     "exception": false,
     "start_time": "2022-02-16T18:56:20.145563",
     "status": "completed"
    },
    "tags": []
   },
   "outputs": [
    {
     "data": {
      "text/plain": [
       "0.6425577608351871"
      ]
     },
     "execution_count": 24,
     "metadata": {},
     "output_type": "execute_result"
    }
   ],
   "source": [
    "#roc_auc\n",
    "from sklearn.metrics import roc_auc_score\n",
    "roc_auc_score(y_test, preds)"
   ]
  }
 ],
 "metadata": {
  "kernelspec": {
   "display_name": "Python 3 (ipykernel)",
   "language": "python",
   "name": "python3"
  },
  "language_info": {
   "codemirror_mode": {
    "name": "ipython",
    "version": 3
   },
   "file_extension": ".py",
   "mimetype": "text/x-python",
   "name": "python",
   "nbconvert_exporter": "python",
   "pygments_lexer": "ipython3",
   "version": "3.9.7"
  },
  "papermill": {
   "default_parameters": {},
   "duration": 66.227516,
   "end_time": "2022-02-16T18:56:21.030347",
   "environment_variables": {},
   "exception": null,
   "input_path": "__notebook__.ipynb",
   "output_path": "__notebook__.ipynb",
   "parameters": {},
   "start_time": "2022-02-16T18:55:14.802831",
   "version": "2.3.3"
  }
 },
 "nbformat": 4,
 "nbformat_minor": 5
}
